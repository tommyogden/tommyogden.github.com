{
 "metadata": {
  "name": "",
  "signature": "sha256:78e34160d2769721f26ba593e7fb1ec5b7c52c394c0d1d0d0dbffccfb40a469a"
 },
 "nbformat": 3,
 "nbformat_minor": 0,
 "worksheets": [
  {
   "cells": [
    {
     "cell_type": "markdown",
     "metadata": {},
     "source": [
      "# Deriving the Two-Step Adams-Bashforth Method (Including Different Stepsizes)\n",
      "\n",
      "Thomas P Ogden (<t@ogden.eu>)\n",
      "\n",
      "_The  Adams-Bashforth family of numerical methods has a well-known derivation but I couldn't find a source which gave the two-step method in the case that the two stepsizes are different. Why do I want that? The two-step method requires two initial points. The second point is often calculated using a Euler step, but as the Euler method is $\\mathcal{O(h^1)}$ I want to make this first step small to avoid introducing a large global error. The third point is then calculated with the Adams-Bashforth method with different step sizes. From then on the Adams-Bashforth method can be used as usual. Another use might be in an [adaptive stepsize][adap_step] method, were we want to adjust the stepsizes as we go._\n",
      "\n",
      "[adap_step]: http://en.wikipedia.org/wiki/Adaptive_stepsize"
     ]
    },
    {
     "cell_type": "markdown",
     "metadata": {},
     "source": [
      "## An Initial Condition ODE Problem\n",
      "\n",
      "Say we have an ordinary differential equation $ y' = f(t,y(t)) $ with an initial condition $y(t_0) = y_0$ and we want to solve it numerically. If we know $y(t)$ at a time $t_n$ and want to know what $y$ is at a later time $t_{n+1}$, the fundamental theorem of calculus tells us that we find it by integrating $y'$ over the time interval,\n",
      "\n",
      "$$ y(t_{n+1}) = y(t_n) + \\int_{t_n}^{t_{n+1}} \\! y'(t) \\, \\mathrm{d}t = y(t_n) + \\int_{t_n}^{t_{n+1}} \\! f(t,y(t)) \\, \\mathrm{d}t.$$\n",
      "\n",
      "The idea behind any ODE solver is to compute the right-hand-side integral for some numerical approximation of $f$. The problem is then computed over a series of steps $n = 1, 2, \\dots N$ to give a sequence of points $y_n$ which approximate $y(t)$ to some order of accuracy as a function of the stepsize. The method is _consistent_ if the local error (i.e. the error from step $n$ to step $n+1$) goes to zero faster than the stepsize ($t_{n+1} - t_n$) goes to zero."
     ]
    },
    {
     "cell_type": "markdown",
     "metadata": {},
     "source": [
      "## Polynomial Interpolation\n",
      "\n",
      "Where the Euler method takes the slope $f$ to be a constant on the interval $[t_n, t_{n+1}]$, the idea behind _Adams-Bashforth_ methods is to approxmiate $f$ by a [Lagrange interpolating polynomial](lagrange):\n",
      "\n",
      "$$ P(t) = \\sum_{j=1}^{m}{P_j(t)}   $$\n",
      "\n",
      "where\n",
      "\n",
      "$$ P_j(t) = y_j \\prod_{\\substack{k=1 \\\\ k \\ne j}}^{m}{ \\frac{t - t_k}{t_j - t_k} }. $$\n",
      "\n",
      "Here $P(t)$ is the polynomial of degree $\\le (m-1)$ that passes through the $m$ points $(t_1, y_1 = f(t_1))$, $(t_2, y_2 = f(t_2))$ $\\dots$ $(t_m, y_m = f(t_m))$. We'll take the linear $(m = 2)$ interpolant on the point $t_{n}$ and an earlier point $t_{n-1}$, so we have\n",
      "\n",
      "$$ P(t) = f(t_n, y_n)\\frac{t - t_{n-1}}{t_n - t_{n-1}} + f(t_{n-1}, y_{n-1})\\frac{t - t_{n}}{t_{n-1} - t_n}. $$\n",
      "\n",
      "Now if we put this approximating polynomial into the integral above, we find\n",
      "\n",
      "\\begin{align}\n",
      "\\int_{t_n}^{t_{n+1}} \\! f(t,y(t)) \\, \\mathrm{d}t &\\approx \\int_{t_n}^{t_{n+1}} \\! P(t) \\, \\mathrm{d}t \\\\\n",
      "&= \\int_{t_n}^{t_{n+1}} \\! \\left[ f(t_n, y_n)\\frac{t - t_{n-1}}{t_n - t_{n-1}} + f(t_{n-1}, y_{n-1})\\frac{t - t_{n}}{t_{n-1} - t_n} \\right] \\mathrm{d}t \\\\\n",
      "&= \\frac{(t_n - t_{n+1})}{2(t_{n-1}-t_n)} \\left[ f(t_n,y_n)(t_n + t_{n+1} - 2t_{n-1}) - f(t_{n-1},y_{n-1})(t_n - t_{n+1}) \\right]\n",
      "\\end{align}"
     ]
    },
    {
     "cell_type": "markdown",
     "metadata": {},
     "source": [
      "## Step Sizes\n",
      "\n",
      "If we let $h_1 := t_n - t_{n-1}$ and $h_2 := t_{n+1} - t_n$ then\n",
      "\n",
      "$$ \\int_{t_n}^{t_{n+1}} \\! P(t) \\, \\mathrm{d}t = \\frac{h_2}{2 h_1} \\left[ (2 h_1 + h_2) f(t_n,y_n)  - h_2 f(t_{n-1},y_{n-1}) \\right]. $$\n",
      "\n",
      "Putting this back into the approximation, we get\n",
      "\n",
      "$$ y(t_{n+1}) \\approx y(t_{n}) + \\frac{h_2}{2 h_1} \\left[ (2 h_1 + h_2) f(t_n,y_n)  - h_2 f(t_{n-1},y_{n-1}) \\right] $$\n",
      "\n",
      "and our sequence of approximation points $y_n$ is calculated as\n",
      "\n",
      "$$ y_{n+1} = y_n + \\frac{h_2}{2 h_1} \\left[ (2 h_1 + h_2) f(t_n,y_n)  - h_2 f(t_{n-1},y_{n-1}) \\right]$$\n",
      "\n",
      "for $n = 1, 2, \\dots N$. If the steps are of *equal size*, i.e. $h := h_1 = h_2$ we find\n",
      "\n",
      "$$ y_{n+1} = y_n + \\frac{3}{2} h f(t_n,y_n) - \\frac{1}{2} h f(t_{n-1}, t_{n-1}),$$\n",
      "\n",
      "which is the [standard two-step Adams-Bashforth method][multistep].\n",
      "\n",
      "\n",
      "\n",
      "[lagrange]: http://mathworld.wolfram.com/LagrangeInterpolatingPolynomial.html\n",
      "[multistep]: http://en.wikipedia.org/wiki/Linear_multistep_method#Families_of_multistep_methods"
     ]
    },
    {
     "cell_type": "markdown",
     "metadata": {},
     "source": [
      "## Accuracy\n",
      "\n",
      "Replacing $f(t,y(t))$ with the interpolant $P(t)$ [incurs a global error][wiki_order_cite] of order $\\mathcal{O}(h^m)$, so in the case of the two-step method we have $\\mathcal{O}(h^2)$. \n",
      "\n",
      "Note that if you follow the same derivation with $m = 1$ you get the Euler method \u2014 so the Euler method is also in fact the one-step Adams-Bashforth method. \n",
      "\n",
      "[wiki_order_cite]: http://en.wikipedia.org/wiki/Linear_multistep_method#CITEREFIserles1996"
     ]
    },
    {
     "cell_type": "markdown",
     "metadata": {},
     "source": [
      "## Python Implementation of the Method"
     ]
    },
    {
     "cell_type": "code",
     "collapsed": false,
     "input": [
      "import numpy as np\n",
      "import matplotlib.pyplot as plt\n",
      "%matplotlib inline"
     ],
     "language": "python",
     "metadata": {},
     "outputs": [],
     "prompt_number": 1
    },
    {
     "cell_type": "markdown",
     "metadata": {},
     "source": [
      "We'll now define a function to implement the two-step Adams-Bashforth method for a system of first-order ODEs. Below we'll try it out on a test equation."
     ]
    },
    {
     "cell_type": "code",
     "collapsed": false,
     "input": [
      "def ode_int_ab(func, y_0, t, args={}):\n",
      "    \"\"\" Two-Step Adams-Bashforth approximation to a first-order ODE system\n",
      "    with initial conditions.\n",
      "\n",
      "    Args:\n",
      "        func: (callable) The first-order ODE system to be approximated.\n",
      "        y_0: (array) The initial condition.\n",
      "        t: (array) A sequence of time points for which to solve for y.\n",
      "        args: (dict) Extra arguments to pass to function.\n",
      "\n",
      "    Out:\n",
      "        y: (array) the approximated solution of the system at each time in t,\n",
      "            with the initial value y_0 in the first row.        \n",
      "    \"\"\"\n",
      "\n",
      "    # Initialise the approximation array\n",
      "    y = np.zeros([len(t), len(y_0)])\n",
      "    y[0] = y_0\n",
      "\n",
      "### Step 0: Euler\n",
      "\n",
      "    h = t[1] - t[0]\n",
      "    y[1] = y[0] + h*func(t[0], y[0], args) # Euler step\n",
      "\n",
      "###\u00a0Step 1: Adams-Bashforth, Different Stepsizes\n",
      "\n",
      "    h_1 = t[1] - t[0]\n",
      "    h_2 = t[2] - t[1]\n",
      "\n",
      "    y[2] = y[1] + 0.5*h_2/h_1*((2.*h_1 + h_2)*func(t[1], y[1], args) -\n",
      "                               h_2*func(t[0], y[0], args))\n",
      "\n",
      "### Steps 2 to N-1: Adams-Bashforth\n",
      "\n",
      "    # Loop through the time steps\n",
      "    for i, t_i in enumerate(t[2:-1], start=2):\n",
      "\n",
      "        h = t[i+1] - t_i # size of the step\n",
      "        y[i+1] = y[i] + (1.5*h*func(t_i, y[i], args) -\n",
      "                         0.5*h*func(t[i-1], y[i-1], args)) # Adams-Bashforth\n",
      "\n",
      "    return y"
     ],
     "language": "python",
     "metadata": {},
     "outputs": [],
     "prompt_number": 2
    },
    {
     "cell_type": "markdown",
     "metadata": {},
     "source": [
      "## A Test Problem: The Exponential\n",
      "\n",
      "To test our solver, let's take a simple ODE: $y' = ay$ with intial value $y(0) = 1$ and $a \\in \\mathbb{C}$. We know the analytic solution of this equation is $y = \\mathrm{e}^{at}$ so we can check the accuracy of the method against this."
     ]
    },
    {
     "cell_type": "code",
     "collapsed": false,
     "input": [
      "def exp(t, y, args):\n",
      "    \"\"\" An exponential function described as a first-order ODE. \"\"\"\n",
      "    \n",
      "    dydt = args['a']*y\n",
      "    return dydt"
     ],
     "language": "python",
     "metadata": {},
     "outputs": [],
     "prompt_number": 3
    },
    {
     "cell_type": "markdown",
     "metadata": {},
     "source": [
      "I've gone for a one-line docstring in this case as the ODE function is short and hopefully transparent."
     ]
    },
    {
     "cell_type": "markdown",
     "metadata": {},
     "source": [
      "Now we've defined our solver and a test method, we can check that the method works for some example parameters. Here we'll set $a = 1$ and solve over $t \\in [0, 5]$."
     ]
    },
    {
     "cell_type": "code",
     "collapsed": false,
     "input": [
      "y_0 = np.array([1.]) # Initial condition\n",
      "\n",
      "solve_args = {'a': 1}\n",
      "\n",
      "t_max = 5."
     ],
     "language": "python",
     "metadata": {},
     "outputs": [],
     "prompt_number": 4
    },
    {
     "cell_type": "markdown",
     "metadata": {},
     "source": [
      "Next we'll solve the system for different numbers of steps: $N = 5, 10, 20$ (corresponding to $h = 1, \\frac{1}{2}, \\tfrac{1}{4}$). Then we'll plot the results alongside the known analytic result $y = \\mathrm{e}^{t}$.\n",
      "\n",
      "For now, note that we're leaving the first Euler step the same size as all the subsequent steps. "
     ]
    },
    {
     "cell_type": "code",
     "collapsed": false,
     "input": [
      "for num_steps in [5, 10, 20]:\n",
      "\n",
      "    t = np.linspace(0., t_max, num_steps+1) # Time steps\n",
      "    y = ode_int_ab(exp, y_0, t, solve_args)\n",
      "    plt.plot(t, y, '-o', label=str(num_steps) + ' steps', clip_on=False) \n",
      "    \n",
      "y_known = np.exp(solve_args['a']*t) # Analytic result for comparison\n",
      "plt.plot(t, y_known, 'k--', label='known')\n",
      "plt.xlabel('$t$'), plt.ylabel('$y$')\n",
      "\n",
      "plt.legend(loc=2)"
     ],
     "language": "python",
     "metadata": {},
     "outputs": [
      {
       "metadata": {},
       "output_type": "pyout",
       "prompt_number": 5,
       "text": [
        "<matplotlib.legend.Legend at 0x10d2dd050>"
       ]
      },
      {
       "metadata": {},
       "output_type": "display_data",
       "png": "[encoded data removed]",
       "text": [
        "<matplotlib.figure.Figure at 0x10d2a7090>"
       ]
      }
     ],
     "prompt_number": 5
    },
    {
     "cell_type": "markdown",
     "metadata": {},
     "source": [
      "_Fig 1: Numerical approximation integrating over 5 (blue), 10 (green) and 20 (red) steps. The known solution is shown for comparison (black dotted)._ "
     ]
    },
    {
     "cell_type": "markdown",
     "metadata": {},
     "source": [
      "From the plot above the method implementation looks good: the numerical solution behaviour follows the known analytic (black dashed line) solution, and is converging on it as we increase the number of steps. We can check that the order of the approximation is indeed $\\mathcal{O}(h^2)$ by plotting a function of the global error at $t=5$, given by $| \\, y_N - e^5 \\, |$, over a large range of stepsizes."
     ]
    },
    {
     "cell_type": "code",
     "collapsed": false,
     "input": [
      "max_N = 16\n",
      "N = 2**np.arange(1, max_N) #\u00a0N = 2, 4, 8, ..., 2^max_N\n",
      "\n",
      "order_check = 2 # for visual check of the order of accuracy\n",
      "\n",
      "y_end = np.zeros(len(N)) # array to fill with the final values\n",
      "stepsize = np.zeros(len(N)) # array to fill with the stepsizes\n",
      "\n",
      "for i, N_i in enumerate(N): # Loop over different numbers of steps\n",
      "\n",
      "    t = np.linspace(0., t_max, N_i+1)\n",
      "    y_end[i] = ode_int_ab(exp, y_0, t, solve_args)[-1]\n",
      "    \n",
      "    stepsize[i] = t_max/N_i\n",
      "    \n",
      "plt.loglog(stepsize, abs(y_end - y_known[-1]), '-o', label='Global error')\n",
      "plt.loglog(stepsize, stepsize**order_check,'k--', label='$h^2$')\n",
      "plt.xlabel('$h$')\n",
      "plt.ylabel('Global error')\n",
      "plt.legend(loc=2)"
     ],
     "language": "python",
     "metadata": {},
     "outputs": [
      {
       "metadata": {},
       "output_type": "pyout",
       "prompt_number": 6,
       "text": [
        "<matplotlib.legend.Legend at 0x10d430a90>"
       ]
      },
      {
       "metadata": {},
       "output_type": "display_data",
       "png": "[encoded data removed]",
       "text": [
        "<matplotlib.figure.Figure at 0x10d409a90>"
       ]
      }
     ],
     "prompt_number": 6
    },
    {
     "cell_type": "markdown",
     "metadata": {},
     "source": [
      "_Fig 2: Global error (blue line) against stepsize $h$. The function $h^2$ is shown for comparison (black dotted)._"
     ]
    },
    {
     "cell_type": "markdown",
     "metadata": {},
     "source": [
      "Plotting the global error (blue line) against stepsize on a logarithmic scale, we see that the slope is constant below $h = 0.1$, which tells us that the order is constant. We could find that order formally by fitting this logarithm, but it's good enough for now to compare the global error with the function $h^2$ (black dashed line). That the slopes are the same indicates visually that the method is $\\mathcal{O}(h^2)$. (Try comparing with $h^1$ or $h^3$ by changing `order_check` in the code above to $1$ or $3$.)"
     ]
    },
    {
     "cell_type": "markdown",
     "metadata": {},
     "source": [
      "## Changing the First Step Size\n",
      "\n",
      "Finally, remember that the reason we derived the two-step Adams-Bashforth method with different stepsizes was  so we could make the first Euler $\\mathcal{O}(h^1)$ step smaller. This step will otherwise introduce a large error which will carry through the subsequent Adams-Bashforth steps. How small should we make it?\n",
      "\n",
      "We'll use the test ODE system `exp` as above but this time keep the main stepsize fixed at $h = 10^{-2}$. Then we'll compare taking the first Euler stepsize $h_0$ from $10^{-2}$ down to $10^{-6}$."
     ]
    },
    {
     "cell_type": "code",
     "collapsed": false,
     "input": [
      "num_stepsizes = 40\n",
      "\n",
      "# logarithmically-spaced points from 10^-6 to 10^-2\n",
      "first_stepsizes = np.logspace(-6, -2, num_stepsizes+1)\n",
      "\n",
      "y_end = np.zeros(len(first_stepsizes))\n",
      "\n",
      "num_steps = 500. # i.e. h = 0.01\n",
      "\n",
      "for i, first_step in enumerate(first_stepsizes):\n",
      "\n",
      "    t = np.linspace(first_step, t_max, num_steps+1)\n",
      "    t = np.insert(t, 0, 0.) #\u00a0Put a first 'small' step first\n",
      "\n",
      "    y_end[i] = ode_int_ab(exp, y_0, t, solve_args)[-1]\n",
      "\n",
      "y_known = np.exp(solve_args['a']*t)"
     ],
     "language": "python",
     "metadata": {},
     "outputs": [],
     "prompt_number": 7
    },
    {
     "cell_type": "markdown",
     "metadata": {},
     "source": [
      "We'll plot the global error on a semilogarithmic axis."
     ]
    },
    {
     "cell_type": "code",
     "collapsed": false,
     "input": [
      "plt.semilogx(first_stepsizes, abs(y_end - y_known[-1]), '-o', clip_on=False)\n",
      "plt.xlabel(r'$h_0$'), plt.ylabel('Global error')"
     ],
     "language": "python",
     "metadata": {},
     "outputs": [
      {
       "metadata": {},
       "output_type": "pyout",
       "prompt_number": 8,
       "text": [
        "(<matplotlib.text.Text at 0x10d336c90>, <matplotlib.text.Text at 0x10d32c490>)"
       ]
      },
      {
       "output_type": "stream",
       "stream": "stderr",
       "text": [
        "/Library/Python/2.7/site-packages/matplotlib-1.4.x-py2.7-macosx-10.9-intel.egg/matplotlib/axes/_base.py:1147: UserWarning: aspect is not supported for Axes with xscale=log, yscale=linear\n",
        "  'yscale=%s' % (xscale, yscale))\n"
       ]
      },
      {
       "metadata": {},
       "output_type": "display_data",
       "png": "[encoded data removed]",
       "text": [
        "<matplotlib.figure.Figure at 0x10d2c0e90>"
       ]
      }
     ],
     "prompt_number": 8
    },
    {
     "cell_type": "markdown",
     "metadata": {},
     "source": [
      "_Fig 3: Global error (blue line) against first stepsize $h_0$._"
     ]
    },
    {
     "cell_type": "markdown",
     "metadata": {},
     "source": [
      "As we'd expect, the global error decreases as the contribution from the first error is brought down by reducing the first stepsize. But if we zoom in on the y-axis, we see that we can only bring it down so far before the error from the remaining steps begins to dominate."
     ]
    },
    {
     "cell_type": "code",
     "collapsed": false,
     "input": [
      "plt.semilogx(first_stepsizes, abs(y_end - y_known[-1]), '-o', clip_on=False)\n",
      "plt.xlabel(r'$h_0$'), plt.ylabel('Global error')\n",
      "plt.ylim([0.030690, 0.030695])"
     ],
     "language": "python",
     "metadata": {},
     "outputs": [
      {
       "metadata": {},
       "output_type": "pyout",
       "prompt_number": 17,
       "text": [
        "(0.03069, 0.030695)"
       ]
      },
      {
       "metadata": {},
       "output_type": "display_data",
       "text": [
        "<matplotlib.figure.Figure at 0x10d8e07d0>"
       ]
      }
     ],
     "prompt_number": 17
    },
    {
     "cell_type": "markdown",
     "metadata": {},
     "source": [
      "_Fig 4: Global error (blue line) against first stepsize $h_0$ &mdash; same as Fig 3 but with a zoomed y-axis._"
     ]
    },
    {
     "cell_type": "markdown",
     "metadata": {},
     "source": [
      "So we see that reducing the size of the first step down from $h_0 = h = 10^{-2}$ reduces the global error down to around $h_0 = 10^{-4}$. In general, if we **make the Euler step an order of magnitude smaller** we should bring the local error from this step in line with that of the first Adams-Bashforth steps."
     ]
    }
   ],
   "metadata": {}
  }
 ]
}