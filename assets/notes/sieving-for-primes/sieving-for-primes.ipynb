{
 "cells": [
  {
   "cell_type": "markdown",
   "metadata": {},
   "source": [
    "# Sieving for Primes"
   ]
  },
  {
   "cell_type": "markdown",
   "metadata": {},
   "source": [
    "A common task in number theory problems is to find all the primes up to a number $n$. [Project Euler](https://projecteuler.net/) is a great resource for problems like this. A simple method of finding primes, the [Sieve of Eratosthenes](https://en.wikipedia.org/wiki/Sieve_of_Eratosthenes), was known in Ancient Greece. You start with 2 and discard as non-prime all multiples of 2 up to $n$. You then move onto the next number you haven't discarded, 3, and mark as non-prime all multiples of 3 up to $n$. We've discarded 4, so we move on to 5 and continue. We can stop when we get to $\\sqrt n$ as we'll have discarded all the multiples by then.\n",
    "\n",
    "Here's what the algorithm looks like for $n = 400$."
   ]
  },
  {
   "cell_type": "markdown",
   "metadata": {},
   "source": [
    "[ SIEVE OF ERATOSTHENES VIZ ]\n",
    "\n",
    "The numbers remaining in red at the end are determined to be prime.\n",
    "\n",
    "See this example at [bl.ocks.org](http://bl.ocks.org/tommyogden/e63a893e60ba0c96badbb98050a2dedc)"
   ]
  },
  {
   "cell_type": "markdown",
   "metadata": {},
   "source": [
    "When should we use the Sieve of Eratosthenes? In this notebook I'll compare it to a naive iterative search by writing example algorithms in Python."
   ]
  },
  {
   "cell_type": "markdown",
   "metadata": {},
   "source": [
    "## Solution A: Iterative Search\n",
    "\n",
    "Our first approach is to iteratively build a list of primes up to a limit $n$.\n",
    "\n",
    "When checking a number $i$ for primality, we only need to check prime factors, so we can check the list as we're building it. Also, in checking if a number $i$ is prime, we only need to check for factors up to $\\sqrt{i}$.\n",
    "\n",
    "We'll write a method that appends the next prime to an existing list of primes."
   ]
  },
  {
   "cell_type": "code",
   "execution_count": 1,
   "metadata": {
    "collapsed": true
   },
   "outputs": [],
   "source": [
    "def primes_next(primes):\n",
    "    \"\"\"Take an ordered list of prime numbers and append the next \n",
    "        prime.\n",
    "        \n",
    "    Args:\n",
    "        primes: list of ordered primes, with the last prime odd,\n",
    "         e.g. [2,3].\n",
    "         \n",
    "    Returns:\n",
    "        The list primes with the next prime appended,\n",
    "         e.g. [2,3,5].\n",
    "    \"\"\"\n",
    "    \n",
    "    i = primes[-1]\n",
    "    while True:\n",
    "        i += 2\n",
    "        for p in primes:\n",
    "            if p**2 > i: # No factors found, i prime\n",
    "                primes.append(i)\n",
    "                return primes\n",
    "            if i%p == 0: # Factor found, try next i\n",
    "                break"
   ]
  },
  {
   "cell_type": "markdown",
   "metadata": {},
   "source": [
    "So for example, if we have the list `[2, 3, 5]` we expect to return `[2, 3, 5, 7]`."
   ]
  },
  {
   "cell_type": "code",
   "execution_count": 2,
   "metadata": {
    "collapsed": false
   },
   "outputs": [
    {
     "name": "stdout",
     "output_type": "stream",
     "text": [
      "[2, 3, 5, 7]\n"
     ]
    }
   ],
   "source": [
    "print(primes_next([2, 3, 5]))"
   ]
  },
  {
   "cell_type": "markdown",
   "metadata": {},
   "source": [
    "Now we repeat this until we get to $n$."
   ]
  },
  {
   "cell_type": "code",
   "execution_count": 3,
   "metadata": {
    "collapsed": true
   },
   "outputs": [],
   "source": [
    "def primes_iterative(n):\n",
    "    \"\"\" Build a list of the primes up to n iteratively. \"\"\"\n",
    "    \n",
    "    p = [2,3]\n",
    "    while p[-1] <= n:\n",
    "        primes_next(p)\n",
    "    p.pop() # Discard the last one.\n",
    "    return p"
   ]
  },
  {
   "cell_type": "code",
   "execution_count": 4,
   "metadata": {
    "collapsed": false
   },
   "outputs": [
    {
     "name": "stdout",
     "output_type": "stream",
     "text": [
      "[2, 3, 5, 7, 11, 13, 17, 19]\n"
     ]
    }
   ],
   "source": [
    "print(primes_iterative(n=20))"
   ]
  },
  {
   "cell_type": "markdown",
   "metadata": {},
   "source": [
    "We'll compare the methods later by counting the number of primes up to $n$ each returns."
   ]
  },
  {
   "cell_type": "code",
   "execution_count": 5,
   "metadata": {
    "collapsed": true
   },
   "outputs": [],
   "source": [
    "def sol_a(n):\n",
    "    \"\"\" Count the number of primes up to n iteratively.\"\"\"\n",
    "    return len(primes_iterative(n))"
   ]
  },
  {
   "cell_type": "code",
   "execution_count": 6,
   "metadata": {
    "collapsed": false
   },
   "outputs": [
    {
     "name": "stdout",
     "output_type": "stream",
     "text": [
      "The number of primes up to 1000 is 168.\n"
     ]
    }
   ],
   "source": [
    "print(\"The number of primes up to 1000 is {0}.\".format(sol_a(n=1000)))"
   ]
  },
  {
   "cell_type": "markdown",
   "metadata": {},
   "source": [
    "## Solution B: Sieve of Eratosthenes"
   ]
  },
  {
   "cell_type": "markdown",
   "metadata": {},
   "source": [
    "For the Sieve of Eratosthenes algorithm, we'll use some helper functions. First we want a method to sieve out the multiples of a factor $f$."
   ]
  },
  {
   "cell_type": "code",
   "execution_count": 7,
   "metadata": {
    "collapsed": true
   },
   "outputs": [],
   "source": [
    "def sieve_multiples(A, f):\n",
    "    \"\"\"Set the primality of multiples of f to False.\n",
    "    \n",
    "    Args:\n",
    "        A: List of booleans representing primality of each index.\n",
    "        f: Factor to find multiples of.\n",
    "        \n",
    "    Notes:\n",
    "        - A is indexed such that A[0] represents 1, A[1] represents 2, etc.\n",
    "        - Only sieves factors greater than f^2.\n",
    "    \"\"\"\n",
    "    \n",
    "    for i in range(f**2-1, len(A), f):\n",
    "        A[i] = False"
   ]
  },
  {
   "cell_type": "markdown",
   "metadata": {},
   "source": [
    "Note that we only need to sieve for factors greater than $f^2$, as the smaller multiples will already have been discarded."
   ]
  },
  {
   "cell_type": "code",
   "execution_count": 8,
   "metadata": {
    "collapsed": false
   },
   "outputs": [
    {
     "name": "stdout",
     "output_type": "stream",
     "text": [
      "[True, True, True, True, True, True, True, True, True, True]\n",
      "[True, True, True, False, True, False, True, False, False, False]\n"
     ]
    }
   ],
   "source": [
    "A = [True]*10\n",
    "print(A)\n",
    "sieve_multiples(A, 2)\n",
    "sieve_multiples(A, 3)\n",
    "sieve_multiples(A, 5)\n",
    "print(A)"
   ]
  },
  {
   "cell_type": "markdown",
   "metadata": {},
   "source": [
    "Next a couple of simple helper methods. One to get us the next `True` value in a boolean list."
   ]
  },
  {
   "cell_type": "code",
   "execution_count": 9,
   "metadata": {
    "collapsed": true
   },
   "outputs": [],
   "source": [
    "def next_factor(A, start=0):\n",
    "    \"\"\"Returns the next True index in A, after start.\"\"\"\n",
    "    return next((i for i, a in enumerate(A[start:], start=start) if a), None)"
   ]
  },
  {
   "cell_type": "markdown",
   "metadata": {},
   "source": [
    "Another to return all the indexes of all remaining `True` values, shifted by 1. Once we've performed the sieve, this will represent the reminaing primes."
   ]
  },
  {
   "cell_type": "code",
   "execution_count": 10,
   "metadata": {
    "collapsed": true
   },
   "outputs": [],
   "source": [
    "def remaining(A):\n",
    "    \"\"\"Returns the indexes of all remaining True values, shifted by 1.\"\"\"\n",
    "    return [i+1 for i, a in enumerate(A) if a]"
   ]
  },
  {
   "cell_type": "markdown",
   "metadata": {},
   "source": [
    "Now we're ready to perform the sieve."
   ]
  },
  {
   "cell_type": "code",
   "execution_count": 11,
   "metadata": {
    "collapsed": true
   },
   "outputs": [],
   "source": [
    "def primes_eratosthenes(n):\n",
    "    \"\"\" Build a list of the primes below n by the Sieve of Eratosthenes. \"\"\"\n",
    "    \n",
    "    A = [True]*n\n",
    "    A[0] = False # 1 is not prime\n",
    "    \n",
    "    primes = []\n",
    "    p = 1 # 2 is prime\n",
    "    \n",
    "    while p**2 < n: # Only need to check up to sqrt(n)\n",
    "        A[p] = False\n",
    "        primes.append(p+1)\n",
    "        sieve_multiples(A, p+1)\n",
    "        p = next_factor(A, p)\n",
    "    \n",
    "    primes.extend(remaining(A)) # All remaining must be prime.\n",
    "    \n",
    "    return primes"
   ]
  },
  {
   "cell_type": "code",
   "execution_count": 12,
   "metadata": {
    "collapsed": false
   },
   "outputs": [
    {
     "name": "stdout",
     "output_type": "stream",
     "text": [
      "[2, 3, 5, 7, 11, 13, 17, 19]\n"
     ]
    }
   ],
   "source": [
    "print(primes_eratosthenes(n=20))"
   ]
  },
  {
   "cell_type": "markdown",
   "metadata": {},
   "source": [
    "Again we'll write a count method to compare."
   ]
  },
  {
   "cell_type": "code",
   "execution_count": 13,
   "metadata": {
    "collapsed": false
   },
   "outputs": [],
   "source": [
    "def sol_b(n):\n",
    "    \"\"\" Count the number of primes up to n by the Sieve of Eratosthenes. \"\"\"\n",
    "    return len(primes_eratosthenes(n))"
   ]
  },
  {
   "cell_type": "code",
   "execution_count": 14,
   "metadata": {
    "collapsed": false
   },
   "outputs": [
    {
     "name": "stdout",
     "output_type": "stream",
     "text": [
      "The number of primes up to 1000 is 168.\n"
     ]
    }
   ],
   "source": [
    "print(\"The number of primes up to 1000 is {0}.\".format(sol_b(n=1000)))"
   ]
  },
  {
   "cell_type": "markdown",
   "metadata": {},
   "source": [
    "## Compare Counts\n",
    "\n",
    "To check the result of the methods against each other, we'll try a few values of $n$. The methods could both be wrong of course."
   ]
  },
  {
   "cell_type": "code",
   "execution_count": 15,
   "metadata": {
    "collapsed": false
   },
   "outputs": [],
   "source": [
    "N = [5, 10, 17, 20, 50, 100, 1000, 10000, 100000, 1000000]\n",
    "\n",
    "for i, n in enumerate(N):\n",
    "    assert(sol_a(n) == sol_b(n))"
   ]
  },
  {
   "cell_type": "markdown",
   "metadata": {},
   "source": [
    "## Complexity Analysis\n",
    "\n",
    "Finally, we'll compare timings by solving the problem over a range of $n$ values."
   ]
  },
  {
   "cell_type": "code",
   "execution_count": 16,
   "metadata": {
    "collapsed": false
   },
   "outputs": [
    {
     "name": "stdout",
     "output_type": "stream",
     "text": [
      "100000 loops, best of 3: 5.73 µs per loop\n",
      "100000 loops, best of 3: 9.67 µs per loop\n",
      "100000 loops, best of 3: 14.4 µs per loop\n",
      "100000 loops, best of 3: 14.4 µs per loop\n",
      "10000 loops, best of 3: 39.3 µs per loop\n",
      "10000 loops, best of 3: 20.8 µs per loop\n",
      "10000 loops, best of 3: 79.8 µs per loop\n",
      "10000 loops, best of 3: 26.9 µs per loop\n",
      "1000 loops, best of 3: 1.18 ms per loop\n",
      "1000 loops, best of 3: 212 µs per loop\n",
      "100 loops, best of 3: 18.4 ms per loop\n",
      "100 loops, best of 3: 2.64 ms per loop\n",
      "1 loop, best of 3: 320 ms per loop\n",
      "10 loops, best of 3: 51.9 ms per loop\n",
      "1 loop, best of 3: 6.26 s per loop\n",
      "1 loop, best of 3: 943 ms per loop\n",
      "1 loop, best of 3: 2min 15s per loop\n",
      "1 loop, best of 3: 37.1 s per loop\n"
     ]
    }
   ],
   "source": [
    "N = [10, 20, 50, 100, 1000, 10000, 100000, 1000000, 10000000]\n",
    "\n",
    "sol_times_a = [0.0]*len(N)\n",
    "sol_times_b = [0.0]*len(N)\n",
    "\n",
    "for i, n in enumerate(N):\n",
    "    result = %timeit -o sol_a(n)\n",
    "    sol_times_a[i] = result.best\n",
    "    \n",
    "    result = %timeit -o sol_b(n)\n",
    "    sol_times_b[i] = result.best"
   ]
  },
  {
   "cell_type": "code",
   "execution_count": 17,
   "metadata": {
    "collapsed": false
   },
   "outputs": [
    {
     "data": {
      "image/png": "[encoded data removed]",
      "text/plain": [
       "<matplotlib.figure.Figure at 0x10474b940>"
      ]
     },
     "metadata": {},
     "output_type": "display_data"
    }
   ],
   "source": [
    "%matplotlib inline\n",
    "\n",
    "import matplotlib.pyplot as plt\n",
    "import seaborn as sns\n",
    "\n",
    "plt.figure(figsize=(10, 5))\n",
    "plt.loglog(N, sol_times_a, label='A: Iterative', marker='o', clip_on=False)\n",
    "plt.loglog(N, sol_times_b, label='B: Eratosthenes', marker='o', clip_on=False)\n",
    "plt.legend(loc=0)\n",
    "plt.xlabel('n')\n",
    "plt.ylabel('time (s)');"
   ]
  },
  {
   "cell_type": "markdown",
   "metadata": {},
   "source": [
    "In figure 1 we compare the best-of-three timings on my laptop of the two methods over a range of $n$ values. We see that the iterative search is quicker for $n = 10$, but for $n = 20$ and beyond, the Eratosthenes method is quicker. Over this range, both are polynomial below quadratic."
   ]
  },
  {
   "cell_type": "code",
   "execution_count": 18,
   "metadata": {
    "collapsed": false
   },
   "outputs": [
    {
     "data": {
      "image/png": "[encoded data removed]",
      "text/plain": [
       "<matplotlib.figure.Figure at 0x10e262d68>"
      ]
     },
     "metadata": {},
     "output_type": "display_data"
    }
   ],
   "source": [
    "speedup = [sol_times_a[i]/sol_times_b[i] for i, x in enumerate(sol_times_b)]\n",
    "\n",
    "plt.figure(figsize=(10, 5))\n",
    "plt.semilogx(N, speedup, marker='o', clip_on=False)\n",
    "plt.axhline(1, c='grey', ls='--', lw=1)\n",
    "plt.xlabel('n')\n",
    "plt.ylabel('Eratosthenes Speedup');"
   ]
  },
  {
   "cell_type": "markdown",
   "metadata": {},
   "source": [
    "In figure 2 we show the speedup of the Eratosthenes method over the iterative search. The speedup peaks at about 7$\\times$ faster at $n = 10^4$. Beyond this Eratosthenes method is still significantly faster, but the speedup is coming down. This is likely due to the fact that the Sieve of Eratosthenes for high $n$ becomes memory intensive, as we need to store all of the numbers up to $n$, whereas with the more computationally intensive iterative search, we only need to store the primes we've already calculated.\n",
    "\n",
    "The runtimes at $n = 10^7$ are in the order of minutes and already long enough that we'd want to look at further tuning of the algorithm beyond this."
   ]
  }
 ],
 "metadata": {
  "anaconda-cloud": {},
  "kernelspec": {
   "display_name": "Python [conda env:euler]",
   "language": "python",
   "name": "conda-env-euler-py"
  },
  "language_info": {
   "codemirror_mode": {
    "name": "ipython",
    "version": 3
   },
   "file_extension": ".py",
   "mimetype": "text/x-python",
   "name": "python",
   "nbconvert_exporter": "python",
   "pygments_lexer": "ipython3",
   "version": "3.5.2"
  }
 },
 "nbformat": 4,
 "nbformat_minor": 1
}
