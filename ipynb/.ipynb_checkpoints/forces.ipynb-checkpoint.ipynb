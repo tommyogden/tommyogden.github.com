{
 "metadata": {
  "name": ""
 },
 "nbformat": 3,
 "nbformat_minor": 0,
 "worksheets": [
  {
   "cells": [
    {
     "cell_type": "code",
     "collapsed": false,
     "input": [
      "import numpy as np"
     ],
     "language": "python",
     "metadata": {},
     "outputs": [],
     "prompt_number": 2
    },
    {
     "cell_type": "code",
     "collapsed": false,
     "input": [
      "N = 5 # num particles\n",
      "D = 2 #\u00a0num dims"
     ],
     "language": "python",
     "metadata": {},
     "outputs": [],
     "prompt_number": 3
    },
    {
     "cell_type": "code",
     "collapsed": false,
     "input": [
      "A = np.random.random((N,D))\n",
      "A"
     ],
     "language": "python",
     "metadata": {},
     "outputs": [
      {
       "metadata": {},
       "output_type": "pyout",
       "prompt_number": 6,
       "text": [
        "array([[ 0.74656838,  0.3920656 ],\n",
        "       [ 0.09658101,  0.98056252],\n",
        "       [ 0.69888491,  0.30802393],\n",
        "       [ 0.07337368,  0.34077794],\n",
        "       [ 0.24831793,  0.22515769]])"
       ]
      }
     ],
     "prompt_number": 6
    },
    {
     "cell_type": "code",
     "collapsed": false,
     "input": [
      "def vec(A):\n",
      "    V = np.zeros((N,N,D))\n",
      "    for i, A_i in enumerate(A):\n",
      "        for j, A_j in enumerate(A[:i+1]):\n",
      "            V[i, j] = A[j] - A[i]\n",
      "            V[j, i] = -V[i, j]\n",
      "    return V"
     ],
     "language": "python",
     "metadata": {},
     "outputs": [],
     "prompt_number": 64
    },
    {
     "cell_type": "code",
     "collapsed": false,
     "input": [
      "vec(A)"
     ],
     "language": "python",
     "metadata": {},
     "outputs": [
      {
       "metadata": {},
       "output_type": "pyout",
       "prompt_number": 65,
       "text": [
        "array([[[-0.        , -0.        ],\n",
        "        [-0.64998737,  0.58849692],\n",
        "        [-0.04768347, -0.08404166],\n",
        "        [-0.67319471, -0.05128765],\n",
        "        [-0.49825046, -0.1669079 ]],\n",
        "\n",
        "       [[ 0.64998737, -0.58849692],\n",
        "        [-0.        , -0.        ],\n",
        "        [ 0.6023039 , -0.67253859],\n",
        "        [-0.02320733, -0.63978458],\n",
        "        [ 0.15173692, -0.75540483]],\n",
        "\n",
        "       [[ 0.04768347,  0.08404166],\n",
        "        [-0.6023039 ,  0.67253859],\n",
        "        [-0.        , -0.        ],\n",
        "        [-0.62551124,  0.03275401],\n",
        "        [-0.45056699, -0.08286624]],\n",
        "\n",
        "       [[ 0.67319471,  0.05128765],\n",
        "        [ 0.02320733,  0.63978458],\n",
        "        [ 0.62551124, -0.03275401],\n",
        "        [-0.        , -0.        ],\n",
        "        [ 0.17494425, -0.11562025]],\n",
        "\n",
        "       [[ 0.49825046,  0.1669079 ],\n",
        "        [-0.15173692,  0.75540483],\n",
        "        [ 0.45056699,  0.08286624],\n",
        "        [-0.17494425,  0.11562025],\n",
        "        [-0.        , -0.        ]]])"
       ]
      }
     ],
     "prompt_number": 65
    },
    {
     "cell_type": "code",
     "collapsed": false,
     "input": [
      "def dist(A):\n",
      "    R = np.zeros((N,N))\n",
      "    V = vec(A)\n",
      "    for i, A_i in enumerate(A):\n",
      "        for j, A_j in enumerate(A[:i+1]):\n",
      "            R[i,j] = np.linalg.norm(V[i,j])\n",
      "            R[j,i] = R[i,j]\n",
      "    return R"
     ],
     "language": "python",
     "metadata": {},
     "outputs": [],
     "prompt_number": 66
    },
    {
     "cell_type": "code",
     "collapsed": false,
     "input": [
      "dist(A)"
     ],
     "language": "python",
     "metadata": {},
     "outputs": [
      {
       "metadata": {},
       "output_type": "pyout",
       "prompt_number": 67,
       "text": [
        "array([[ 0.        ,  0.87681937,  0.09662668,  0.67514557,  0.52546338],\n",
        "       [ 0.87681937,  0.        ,  0.90281678,  0.64020535,  0.7704937 ],\n",
        "       [ 0.09662668,  0.90281678,  0.        ,  0.62636821,  0.45812381],\n",
        "       [ 0.67514557,  0.64020535,  0.62636821,  0.        ,  0.20969867],\n",
        "       [ 0.52546338,  0.7704937 ,  0.45812381,  0.20969867,  0.        ]])"
       ]
      }
     ],
     "prompt_number": 67
    },
    {
     "cell_type": "code",
     "collapsed": false,
     "input": [
      "def force_mag(A):\n",
      "    F = np.zeros((N,N,D))\n",
      "    G = 1.\n",
      "    m = 1.\n",
      "#     print np.where(A != 0.)\n",
      "    return (dist(A) != 0.)*G*m*m/dist(A)**2"
     ],
     "language": "python",
     "metadata": {},
     "outputs": [],
     "prompt_number": 82
    },
    {
     "cell_type": "code",
     "collapsed": false,
     "input": [
      "force_mag(A)"
     ],
     "language": "python",
     "metadata": {},
     "outputs": [
      {
       "output_type": "stream",
       "stream": "stdout",
       "text": [
        "(array([0, 0, 1, 1, 2, 2, 3, 3, 4, 4]), array([0, 1, 0, 1, 0, 1, 0, 1, 0, 1]))\n"
       ]
      }
     ],
     "prompt_number": 83
    },
    {
     "cell_type": "code",
     "collapsed": false,
     "input": [
      "def force_cutoff(A):\n",
      "    cutoff = 0.2\n",
      "    return (dist(A) > cutoff)"
     ],
     "language": "python",
     "metadata": {},
     "outputs": [],
     "prompt_number": 81
    },
    {
     "cell_type": "code",
     "collapsed": false,
     "input": [
      "force_cutoff(A)"
     ],
     "language": "python",
     "metadata": {},
     "outputs": [
      {
       "metadata": {},
       "output_type": "pyout",
       "prompt_number": 53,
       "text": [
        "array([[False,  True, False,  True,  True],\n",
        "       [ True, False,  True,  True,  True],\n",
        "       [False,  True, False,  True,  True],\n",
        "       [ True,  True,  True, False,  True],\n",
        "       [ True,  True,  True,  True, False]], dtype=bool)"
       ]
      }
     ],
     "prompt_number": 53
    },
    {
     "cell_type": "code",
     "collapsed": false,
     "input": [],
     "language": "python",
     "metadata": {},
     "outputs": [],
     "prompt_number": 52
    },
    {
     "cell_type": "code",
     "collapsed": false,
     "input": [],
     "language": "python",
     "metadata": {},
     "outputs": []
    }
   ],
   "metadata": {}
  }
 ]
}