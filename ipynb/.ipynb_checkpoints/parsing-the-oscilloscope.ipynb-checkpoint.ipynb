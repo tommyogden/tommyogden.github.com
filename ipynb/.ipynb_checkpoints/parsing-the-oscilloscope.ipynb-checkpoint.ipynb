{
 "metadata": {
  "name": ""
 },
 "nbformat": 3,
 "nbformat_minor": 0,
 "worksheets": [
  {
   "cells": [
    {
     "cell_type": "markdown",
     "metadata": {},
     "source": [
      "# Parsing the Oscilloscope\n",
      "\n",
      "[Explain the problem]"
     ]
    },
    {
     "cell_type": "raw",
     "metadata": {},
     "source": [
      "This is text form of saved Waveform\n",
      "Channel 1\n",
      "2048                        (Record Length)\n",
      "Waveform\n",
      "\n",
      "  s                         (Dimension of horizontal axes)\n",
      " 1.02900000000000E-0007        (Shift of the first horizontal point)\n",
      " 2.50000000000E-0012        (Sample interval)\n",
      "V                         (Dimension of vertical axes)\n",
      " 2.00000000000E-0002        (Vertical Scale per division)\n",
      "-0.00000000000E+0000        (Vertical offset)\n",
      "\n",
      "(The following date points are showed in their real value)\n",
      "     2.10625000000000014E-0002\n",
      "     2.20624999999999988E-0002\n",
      "     1.91874999999999997E-0002\n",
      "     2.33749999999999999E-0002\n",
      "     2.07500000000000011E-0002\n",
      "     2.16875000000000019E-0002\n",
      "     2.01875000000000006E-0002\n",
      "     \u22ee"
     ]
    },
    {
     "cell_type": "markdown",
     "metadata": {},
     "source": [
      "##\u00a0Parsing the Output"
     ]
    },
    {
     "cell_type": "code",
     "collapsed": false,
     "input": [
      "import numpy as np\n",
      "import matplotlib.pyplot as plt\n",
      "%matplotlib inline"
     ],
     "language": "python",
     "metadata": {},
     "outputs": [],
     "prompt_number": 2
    },
    {
     "cell_type": "code",
     "collapsed": false,
     "input": [
      "def parser(fname):\n",
      "    \"\"\" Parses a raw output file from the oscilloscope and returns time points \n",
      "    and a dictionary of parameters.\n",
      "    \n",
      "    Args:\n",
      "        fname: the filename to be parsed.\n",
      "\n",
      "    Returns:\n",
      "        t (np array): timepoints [s]\n",
      "        y (np array): signal change values at t [mV]\n",
      "        params (dict): parameters we might want. \n",
      "    \"\"\"\n",
      "\n",
      "    #\u00a0Lines in the output file we're interested in.\n",
      "    interesting_lines = [2, 6, 7, 9, 10] \n",
      "\n",
      "    b = []\n",
      "    # Read in lines from the file, keep the ones we want and strip out values.\n",
      "    with open(fname) as datafile:\n",
      "        for n, line in enumerate(datafile):\n",
      "            if n in interesting_lines:\n",
      "                b.append(float(line.strip().split(' ')[0]))\n",
      "\n",
      "    p = {'num_points':b[0], 't_shift': b[1], 't_interval': b[2], \n",
      "         'y_scale': b[3], 'y_shift': b[4]}\n",
      "\n",
      "    t = np.linspace(0, p['t_interval']*(p['num_points']-1), p['num_points'])\n",
      "    t += p['t_shift']\n",
      "\n",
      "    y = np.loadtxt(fname, dtype=np.float, skiprows=13)\n",
      "\n",
      "    return t, y, p"
     ],
     "language": "python",
     "metadata": {},
     "outputs": [],
     "prompt_number": 3
    },
    {
     "cell_type": "markdown",
     "metadata": {},
     "source": [
      "## Removing Noise and Averaging"
     ]
    },
    {
     "cell_type": "code",
     "collapsed": false,
     "input": [
      "def scope_average(fpath):\n",
      "    \n",
      "    \n",
      "    import os\n",
      "    import re\n",
      "    \n",
      "    Y_all = []\n",
      "\n",
      "    for f in os.listdir(fpath):\n",
      "        if re.match(r'S.*\\.txt$', f):\n",
      "\n",
      "            print 'Parsing {0}/{1}'.format(fpath, f)\n",
      "            t, s, p = parser('{0}/{1}'.format(fpath, f)) #\u00a0Parse signal file\n",
      "\n",
      "            f_noise = f.replace('S','N',1) #\u00a0Only want to replace first 'S'\n",
      "            print 'Parsing {0}/{1}'.format(fpath, f_noise)\n",
      "            t, n, p = parser('{0}/{1}'.format(fpath, f_noise)) #\u00a0Parse noise\n",
      "            \n",
      "            Y_all.append(s-n) # Signal less noise\n",
      "\n",
      "    T = t\n",
      "    Y_all = np.array(Y_all)\n",
      "\n",
      "#     [plt.plot(T, y, alpha=0.1, c='b') for y in Y_all]\n",
      "\n",
      "    Y = Y_all.mean(axis=0)\n",
      "\n",
      "    return T, Y, Y_all"
     ],
     "language": "python",
     "metadata": {},
     "outputs": [],
     "prompt_number": 4
    },
    {
     "cell_type": "code",
     "collapsed": false,
     "input": [],
     "language": "python",
     "metadata": {},
     "outputs": []
    }
   ],
   "metadata": {}
  }
 ]
}