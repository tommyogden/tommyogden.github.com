{
 "metadata": {
  "name": ""
 },
 "nbformat": 3,
 "nbformat_minor": 0,
 "worksheets": [
  {
   "cells": [
    {
     "cell_type": "code",
     "collapsed": false,
     "input": [
      "import numpy as np"
     ],
     "language": "python",
     "metadata": {},
     "outputs": [],
     "prompt_number": 2
    },
    {
     "cell_type": "code",
     "collapsed": false,
     "input": [
      "N = 5 # num particles\n",
      "D = 2 #\u00a0num dims"
     ],
     "language": "python",
     "metadata": {},
     "outputs": [],
     "prompt_number": 3
    },
    {
     "cell_type": "code",
     "collapsed": false,
     "input": [
      "A = np.random.random((N,D))\n",
      "A"
     ],
     "language": "python",
     "metadata": {},
     "outputs": [
      {
       "metadata": {},
       "output_type": "pyout",
       "prompt_number": 6,
       "text": [
        "array([[ 0.74656838,  0.3920656 ],\n",
        "       [ 0.09658101,  0.98056252],\n",
        "       [ 0.69888491,  0.30802393],\n",
        "       [ 0.07337368,  0.34077794],\n",
        "       [ 0.24831793,  0.22515769]])"
       ]
      }
     ],
     "prompt_number": 6
    },
    {
     "cell_type": "code",
     "collapsed": false,
     "input": [
      "def vec(A):\n",
      "    V = np.zeros((N,N,D))\n",
      "    for i, A_i in enumerate(A):\n",
      "        for j, A_j in enumerate(A[:i+1]):\n",
      "            V[i, j] = A[j] - A[i]\n",
      "            V[j, i] = -V[i, j]\n",
      "    return V"
     ],
     "language": "python",
     "metadata": {},
     "outputs": [],
     "prompt_number": 64
    },
    {
     "cell_type": "code",
     "collapsed": false,
     "input": [
      "vec(A)"
     ],
     "language": "python",
     "metadata": {},
     "outputs": [
      {
       "metadata": {},
       "output_type": "pyout",
       "prompt_number": 65,
       "text": [
        "array([[[-0.        , -0.        ],\n",
        "        [-0.64998737,  0.58849692],\n",
        "        [-0.04768347, -0.08404166],\n",
        "        [-0.67319471, -0.05128765],\n",
        "        [-0.49825046, -0.1669079 ]],\n",
        "\n",
        "       [[ 0.64998737, -0.58849692],\n",
        "        [-0.        , -0.        ],\n",
        "        [ 0.6023039 , -0.67253859],\n",
        "        [-0.02320733, -0.63978458],\n",
        "        [ 0.15173692, -0.75540483]],\n",
        "\n",
        "       [[ 0.04768347,  0.08404166],\n",
        "        [-0.6023039 ,  0.67253859],\n",
        "        [-0.        , -0.        ],\n",
        "        [-0.62551124,  0.03275401],\n",
        "        [-0.45056699, -0.08286624]],\n",
        "\n",
        "       [[ 0.67319471,  0.05128765],\n",
        "        [ 0.02320733,  0.63978458],\n",
        "        [ 0.62551124, -0.03275401],\n",
        "        [-0.        , -0.        ],\n",
        "        [ 0.17494425, -0.11562025]],\n",
        "\n",
        "       [[ 0.49825046,  0.1669079 ],\n",
        "        [-0.15173692,  0.75540483],\n",
        "        [ 0.45056699,  0.08286624],\n",
        "        [-0.17494425,  0.11562025],\n",
        "        [-0.        , -0.        ]]])"
       ]
      }
     ],
     "prompt_number": 65
    },
    {
     "cell_type": "code",
     "collapsed": false,
     "input": [
      "def dist(A):\n",
      "    R = np.zeros((N,N))\n",
      "    V = vec(A)\n",
      "    for i, A_i in enumerate(A):\n",
      "        for j, A_j in enumerate(A[:i+1]):\n",
      "            R[i,j] = np.linalg.norm(V[i,j])\n",
      "            R[j,i] = R[i,j]\n",
      "    return R"
     ],
     "language": "python",
     "metadata": {},
     "outputs": [],
     "prompt_number": 66
    },
    {
     "cell_type": "code",
     "collapsed": false,
     "input": [
      "dist(A)"
     ],
     "language": "python",
     "metadata": {},
     "outputs": [
      {
       "metadata": {},
       "output_type": "pyout",
       "prompt_number": 67,
       "text": [
        "array([[ 0.        ,  0.87681937,  0.09662668,  0.67514557,  0.52546338],\n",
        "       [ 0.87681937,  0.        ,  0.90281678,  0.64020535,  0.7704937 ],\n",
        "       [ 0.09662668,  0.90281678,  0.        ,  0.62636821,  0.45812381],\n",
        "       [ 0.67514557,  0.64020535,  0.62636821,  0.        ,  0.20969867],\n",
        "       [ 0.52546338,  0.7704937 ,  0.45812381,  0.20969867,  0.        ]])"
       ]
      }
     ],
     "prompt_number": 67
    },
    {
     "cell_type": "code",
     "collapsed": false,
     "input": [
      "def dist_cutoff(A"
     ],
     "language": "python",
     "metadata": {},
     "outputs": []
    },
    {
     "cell_type": "code",
     "collapsed": false,
     "input": [
      "def force_mag(A):\n",
      "    G = 1.\n",
      "    m = 1.\n",
      "    F = (dist(A) != 0.)*G*m*m/dist(A)**2\n",
      "    F[np.isnan(F)] = 0\n",
      "    return F"
     ],
     "language": "python",
     "metadata": {},
     "outputs": [],
     "prompt_number": 89
    },
    {
     "cell_type": "code",
     "collapsed": false,
     "input": [
      "force_mag(A)"
     ],
     "language": "python",
     "metadata": {},
     "outputs": [
      {
       "metadata": {},
       "output_type": "pyout",
       "prompt_number": 98,
       "text": [
        "array([[   0.        ,    1.30070774,  107.1040586 ,    2.19384106,\n",
        "           3.6217218 ],\n",
        "       [   1.30070774,    0.        ,    1.22687623,    2.43984034,\n",
        "           1.6844643 ],\n",
        "       [ 107.1040586 ,    1.22687623,    0.        ,    2.54882833,\n",
        "           4.76468589],\n",
        "       [   2.19384106,    2.43984034,    2.54882833,    0.        ,\n",
        "          22.74095188],\n",
        "       [   3.6217218 ,    1.6844643 ,    4.76468589,   22.74095188,    0.        ]])"
       ]
      }
     ],
     "prompt_number": 98
    },
    {
     "cell_type": "code",
     "collapsed": false,
     "input": [
      "# def force_cutoff(A):\n",
      "#     cutoff = 0.2\n",
      "#     return (dist(A) > cutoff)"
     ],
     "language": "python",
     "metadata": {},
     "outputs": [],
     "prompt_number": 91
    },
    {
     "cell_type": "code",
     "collapsed": false,
     "input": [
      "# force_cutoff(A)"
     ],
     "language": "python",
     "metadata": {},
     "outputs": [
      {
       "metadata": {},
       "output_type": "pyout",
       "prompt_number": 92,
       "text": [
        "array([[False,  True, False,  True,  True],\n",
        "       [ True, False,  True,  True,  True],\n",
        "       [False,  True, False,  True,  True],\n",
        "       [ True,  True,  True, False,  True],\n",
        "       [ True,  True,  True,  True, False]], dtype=bool)"
       ]
      }
     ],
     "prompt_number": 92
    },
    {
     "cell_type": "code",
     "collapsed": false,
     "input": [
      "def force(A):\n",
      "    for i, A_i in enumerate(A):\n",
      "        for j, A_j in enumerate(A[:i+1]):\n",
      "            "
     ],
     "language": "python",
     "metadata": {},
     "outputs": [],
     "prompt_number": 96
    },
    {
     "cell_type": "code",
     "collapsed": false,
     "input": [
      "force(A)"
     ],
     "language": "python",
     "metadata": {},
     "outputs": [
      {
       "ename": "ValueError",
       "evalue": "operands could not be broadcast together with shapes (5,5) (5,5,2) ",
       "output_type": "pyerr",
       "traceback": [
        "\u001b[0;31m---------------------------------------------------------------------------\u001b[0m\n\u001b[0;31mValueError\u001b[0m                                Traceback (most recent call last)",
        "\u001b[0;32m<ipython-input-97-029cd2be0be7>\u001b[0m in \u001b[0;36m<module>\u001b[0;34m()\u001b[0m\n\u001b[0;32m----> 1\u001b[0;31m \u001b[0mforce\u001b[0m\u001b[0;34m(\u001b[0m\u001b[0mA\u001b[0m\u001b[0;34m)\u001b[0m\u001b[0;34m\u001b[0m\u001b[0m\n\u001b[0m",
        "\u001b[0;32m<ipython-input-96-1aa3aafdbf74>\u001b[0m in \u001b[0;36mforce\u001b[0;34m(A)\u001b[0m\n\u001b[1;32m      1\u001b[0m \u001b[0;32mdef\u001b[0m \u001b[0mforce\u001b[0m\u001b[0;34m(\u001b[0m\u001b[0mA\u001b[0m\u001b[0;34m)\u001b[0m\u001b[0;34m:\u001b[0m\u001b[0;34m\u001b[0m\u001b[0m\n\u001b[0;32m----> 2\u001b[0;31m     \u001b[0mF\u001b[0m \u001b[0;34m=\u001b[0m \u001b[0mforce_mag\u001b[0m\u001b[0;34m(\u001b[0m\u001b[0mA\u001b[0m\u001b[0;34m)\u001b[0m\u001b[0;34m*\u001b[0m\u001b[0mvec\u001b[0m\u001b[0;34m(\u001b[0m\u001b[0mA\u001b[0m\u001b[0;34m)\u001b[0m\u001b[0;34m\u001b[0m\u001b[0m\n\u001b[0m\u001b[1;32m      3\u001b[0m     \u001b[0;32mreturn\u001b[0m \u001b[0mF\u001b[0m\u001b[0;34m\u001b[0m\u001b[0m\n",
        "\u001b[0;31mValueError\u001b[0m: operands could not be broadcast together with shapes (5,5) (5,5,2) "
       ]
      }
     ],
     "prompt_number": 97
    },
    {
     "cell_type": "code",
     "collapsed": false,
     "input": [],
     "language": "python",
     "metadata": {},
     "outputs": []
    }
   ],
   "metadata": {}
  }
 ]
}